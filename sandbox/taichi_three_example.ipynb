{
 "cells": [
  {
   "cell_type": "code",
   "execution_count": null,
   "id": "e9e99c52",
   "metadata": {},
   "outputs": [],
   "source": [
    "import taichi as ti\n",
    "import taichi_three as t3"
   ]
  },
  {
   "cell_type": "code",
   "execution_count": null,
   "id": "445f625b",
   "metadata": {},
   "outputs": [],
   "source": [
    "import numpy as np\n",
    "from PIL import Image\n",
    "\n",
    "from pydrake.common.eigen_geometry import Quaternion"
   ]
  },
  {
   "cell_type": "code",
   "execution_count": null,
   "id": "29c9ddaf",
   "metadata": {},
   "outputs": [],
   "source": [
    "full_state0 = np.load(\"full_state0.npy\", allow_pickle=True).item()\n",
    "full_state0_img = Image.open(\"full_state0.png\")\n",
    "x, _v, _F, _C, primitive_states = full_state0[\"state\"]\n",
    "cyl_p = primitive_states[:3]\n",
    "cyl_qwxyz = primitive_states[3:]\n",
    "cyl_R = Quaternion(cyl_qwxyz).rotation().copy()\n",
    "display(full_state0_img)"
   ]
  },
  {
   "cell_type": "code",
   "execution_count": null,
   "id": "5f7361af",
   "metadata": {},
   "outputs": [],
   "source": [
    "ti.init(ti.gpu)"
   ]
  },
  {
   "cell_type": "code",
   "execution_count": null,
   "id": "8ac93a25",
   "metadata": {},
   "outputs": [],
   "source": [
    "pos = ti.Vector.field(3, ti.f32, len(x))\n",
    "pos.from_numpy(x)"
   ]
  },
  {
   "cell_type": "code",
   "execution_count": null,
   "id": "a6bdf042",
   "metadata": {},
   "outputs": [],
   "source": [
    "scene = t3.Scene()\n",
    "\n",
    "# TODO(eric): How to add color to particles?\n",
    "particles = t3.ScatterModel(radius=4)\n",
    "particles.particles = pos\n",
    "scene.add_model(particles)\n",
    "\n",
    "# Lazy textured cylinder + scaling.\n",
    "obj = t3.readobj(\"textured_cylinder.obj\")\n",
    "texture = ti.imread(\"textured_cylinder.png\")\n",
    "obj[\"vp\"] = obj[\"vp\"][:, :3]  # dunno why this is 6-elem; some weird export from MeshLab?\n",
    "r = 0.0254\n",
    "h = 0.254\n",
    "obj[\"vp\"] *= np.array([[r, h, r]])\n",
    "cylinder = t3.Model.from_obj(obj, texture)\n",
    "scene.add_model(cylinder)\n",
    "\n",
    "# need to pass in ndarray\n",
    "camera = t3.Camera(\n",
    "    pos=[0.5, 0.8 , 1.5],\n",
    "    target=x.mean(axis=0).tolist(),\n",
    ")\n",
    "scene.add_camera(camera)\n",
    "\n",
    "light = t3.Light()\n",
    "scene.add_light(light)"
   ]
  },
  {
   "cell_type": "code",
   "execution_count": null,
   "id": "0bced943",
   "metadata": {},
   "outputs": [],
   "source": [
    "# N.B. For whatever reason, we have to call `scene.render()` to\n",
    "# ensure we can change the cylinder pose.\n",
    "scene.render()"
   ]
  },
  {
   "cell_type": "code",
   "execution_count": null,
   "id": "ec6f82ea",
   "metadata": {},
   "outputs": [],
   "source": [
    "cylinder.L2W.offset.from_numpy(cyl_p)\n",
    "cylinder.L2W.matrix.from_numpy(cyl_R)"
   ]
  },
  {
   "cell_type": "code",
   "execution_count": null,
   "id": "499bcf93",
   "metadata": {},
   "outputs": [],
   "source": [
    "gui = ti.GUI(\"test\", camera.res)\n",
    "while gui.running:\n",
    "    gui.get_event(None)\n",
    "    gui.running = not gui.is_pressed(ti.GUI.ESCAPE)\n",
    "    camera.from_mouse(gui)\n",
    "    scene.render()\n",
    "    gui.set_image(camera.img)\n",
    "    gui.show()"
   ]
  },
  {
   "cell_type": "code",
   "execution_count": null,
   "id": "7635571f",
   "metadata": {},
   "outputs": [],
   "source": [
    "camera.pos.to_numpy()"
   ]
  }
 ],
 "metadata": {
  "kernelspec": {
   "display_name": "Python 3",
   "language": "python",
   "name": "python3"
  },
  "language_info": {
   "codemirror_mode": {
    "name": "ipython",
    "version": 3
   },
   "file_extension": ".py",
   "mimetype": "text/x-python",
   "name": "python",
   "nbconvert_exporter": "python",
   "pygments_lexer": "ipython3",
   "version": "3.6.9"
  }
 },
 "nbformat": 4,
 "nbformat_minor": 5
}
