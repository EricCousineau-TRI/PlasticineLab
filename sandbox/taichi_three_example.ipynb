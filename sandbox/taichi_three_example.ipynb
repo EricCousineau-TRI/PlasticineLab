{
 "cells": [
  {
   "cell_type": "code",
   "execution_count": null,
   "id": "7927df9d",
   "metadata": {},
   "outputs": [],
   "source": [
    "import taichi as ti\n",
    "import taichi_glsl as ts\n",
    "import taichi_three as t3"
   ]
  },
  {
   "cell_type": "code",
   "execution_count": null,
   "id": "ff73f589",
   "metadata": {},
   "outputs": [],
   "source": [
    "import dataclasses as dc\n",
    "import os\n",
    "\n",
    "import torch\n",
    "import numpy as np\n",
    "from PIL import Image\n",
    "\n",
    "from pydrake.math import RollPitchYaw, RotationMatrix, RigidTransform\n",
    "from pydrake.common.eigen_geometry import Quaternion\n",
    "\n",
    "import neural_renderer as nr\n",
    "from simple_mesh import Mesh, intrinsic_matrix_from_fov, RgbDepth"
   ]
  },
  {
   "cell_type": "code",
   "execution_count": null,
   "id": "3f475079",
   "metadata": {},
   "outputs": [],
   "source": [
    "full_state0 = np.load(\"full_state0.npy\", allow_pickle=True).item()\n",
    "full_state0_img = Image.open(\"full_state0.png\")\n",
    "x, _v, _F, _C, primitive_states = full_state0[\"state\"]\n",
    "cyl_p = primitive_states[:3]\n",
    "cyl_qwxyz = primitive_states[3:]\n",
    "cyl_R = Quaternion(cyl_qwxyz).rotation().copy()\n",
    "display(full_state0_img)"
   ]
  },
  {
   "cell_type": "code",
   "execution_count": null,
   "id": "497ac6da",
   "metadata": {},
   "outputs": [],
   "source": [
    "ti.init(ti.gpu)"
   ]
  },
  {
   "cell_type": "code",
   "execution_count": null,
   "id": "8b89c51b",
   "metadata": {},
   "outputs": [],
   "source": []
  },
  {
   "cell_type": "code",
   "execution_count": null,
   "id": "92ff1638",
   "metadata": {},
   "outputs": [],
   "source": [
    "pos = ti.Vector.field(3, ti.f32, len(x))\n",
    "pos.from_numpy(x)"
   ]
  },
  {
   "cell_type": "code",
   "execution_count": null,
   "id": "c517cfd3",
   "metadata": {},
   "outputs": [],
   "source": [
    "scene = t3.Scene()\n",
    "\n",
    "particles = t3.ScatterModel(radius=4)\n",
    "particles.particles = pos\n",
    "scene.add_model(particles)\n",
    "\n",
    "obj = t3.readobj(\"textured_cylinder.obj\")\n",
    "obj[\"vp\"] = obj[\"vp\"][:, :3]  # shrug\n",
    "r = 0.0254\n",
    "h = 0.254\n",
    "obj[\"vp\"] *= np.array([[r, h, r]])\n",
    "texture = ti.imread(\"textured_cylinder.png\")\n",
    "cylinder = t3.Model.from_obj(obj, texture)\n",
    "scene.add_model(cylinder)\n",
    "\n",
    "camera = t3.Camera(\n",
    "#     pos=np.array([0.5, 2.5, 2.0]).tolist(),\n",
    "    pos=[0.5, 0.8 , 1.5],\n",
    "    target=x.mean(axis=0).tolist(),\n",
    ")\n",
    "scene.add_camera(camera)\n",
    "\n",
    "light = t3.Light()\n",
    "scene.add_light(light)"
   ]
  },
  {
   "cell_type": "code",
   "execution_count": null,
   "id": "d9af9158",
   "metadata": {},
   "outputs": [],
   "source": [
    "cylinder.L2W.offset.from_numpy(cyl_p)\n",
    "cylinder.L2W.matrix.from_numpy(cyl_R)"
   ]
  },
  {
   "cell_type": "code",
   "execution_count": null,
   "id": "820395e5",
   "metadata": {},
   "outputs": [],
   "source": [
    "cyl_R"
   ]
  },
  {
   "cell_type": "code",
   "execution_count": null,
   "id": "ddb6ea6b",
   "metadata": {},
   "outputs": [],
   "source": [
    "camera.pos.to_numpy()"
   ]
  },
  {
   "cell_type": "code",
   "execution_count": null,
   "id": "e3d17966",
   "metadata": {},
   "outputs": [],
   "source": [
    "cylinder.L2W.offset.to_numpy()"
   ]
  },
  {
   "cell_type": "code",
   "execution_count": null,
   "id": "6a41a864",
   "metadata": {},
   "outputs": [],
   "source": [
    "# pos.from_numpy(np.zeros_like(x))"
   ]
  },
  {
   "cell_type": "code",
   "execution_count": null,
   "id": "7fabda67",
   "metadata": {},
   "outputs": [],
   "source": [
    "gui = ti.GUI(\"test\", camera.res)\n",
    "while gui.running:\n",
    "    gui.get_event(None)\n",
    "    gui.running = not gui.is_pressed(ti.GUI.ESCAPE)\n",
    "    camera.from_mouse(gui)\n",
    "    scene.render()\n",
    "    gui.set_image(camera.img)\n",
    "    gui.show()"
   ]
  },
  {
   "cell_type": "code",
   "execution_count": null,
   "id": "2f67aa03",
   "metadata": {},
   "outputs": [],
   "source": []
  }
 ],
 "metadata": {
  "kernelspec": {
   "display_name": "Python 3",
   "language": "python",
   "name": "python3"
  },
  "language_info": {
   "codemirror_mode": {
    "name": "ipython",
    "version": 3
   },
   "file_extension": ".py",
   "mimetype": "text/x-python",
   "name": "python",
   "nbconvert_exporter": "python",
   "pygments_lexer": "ipython3",
   "version": "3.6.9"
  }
 },
 "nbformat": 4,
 "nbformat_minor": 5
}
