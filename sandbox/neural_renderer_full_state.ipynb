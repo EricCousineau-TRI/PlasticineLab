{
 "cells": [
  {
   "cell_type": "code",
   "execution_count": null,
   "id": "2ac20d94",
   "metadata": {},
   "outputs": [],
   "source": [
    "import dataclasses as dc\n",
    "import os\n",
    "\n",
    "import torch\n",
    "import numpy as np\n",
    "from PIL import Image\n",
    "\n",
    "from pydrake.math import RollPitchYaw, RotationMatrix, RigidTransform\n",
    "from pydrake.common.eigen_geometry import Quaternion\n",
    "\n",
    "import neural_renderer as nr\n",
    "from simple_mesh import Mesh, intrinsic_matrix_from_fov, RgbDepth"
   ]
  },
  {
   "cell_type": "code",
   "execution_count": null,
   "id": "c0181521",
   "metadata": {},
   "outputs": [],
   "source": [
    "np.set_printoptions(formatter={\"float_kind\": lambda x: f\"{x:,.4f}\"})\n",
    "torch.set_grad_enabled(False)"
   ]
  },
  {
   "cell_type": "code",
   "execution_count": null,
   "id": "8ab70f1e",
   "metadata": {},
   "outputs": [],
   "source": [
    "device = torch.device(\"cuda\")\n",
    "dtype = torch.float32"
   ]
  },
  {
   "cell_type": "code",
   "execution_count": null,
   "id": "6954d31e",
   "metadata": {},
   "outputs": [],
   "source": [
    "width = 512\n",
    "height = 512\n",
    "# width = 128\n",
    "# height = 128\n",
    "fov_y = np.pi / 4\n",
    "K = intrinsic_matrix_from_fov(width, height, fov_y)\n",
    "K = torch.from_numpy(K).to(device, dtype).unsqueeze(0)\n",
    "\n",
    "renderer = nr.Renderer(\n",
    "    camera_mode='projection',\n",
    "    projection_left_hand=False,\n",
    "    image_size=width,\n",
    "    light_direction=[-1, -1, -1],\n",
    "    light_intensity_directional=0.5,\n",
    "    light_intensity_ambient=0.75,\n",
    "    background_color=[0.0, 0.0, 1.0],\n",
    ")"
   ]
  },
  {
   "cell_type": "code",
   "execution_count": null,
   "id": "72265c8b",
   "metadata": {},
   "outputs": [],
   "source": [
    "full_state0 = np.load(\"full_state0.npy\", allow_pickle=True).item()\n",
    "full_state0_img = Image.open(\"full_state0.png\")\n",
    "display(full_state0_img)"
   ]
  },
  {
   "cell_type": "code",
   "execution_count": null,
   "id": "be75bd48",
   "metadata": {},
   "outputs": [],
   "source": [
    "x, _v, _F, _C, primitive_states = full_state0[\"state\"]"
   ]
  },
  {
   "cell_type": "code",
   "execution_count": null,
   "id": "1ae428c6",
   "metadata": {},
   "outputs": [],
   "source": [
    "x.shape"
   ]
  },
  {
   "cell_type": "code",
   "execution_count": null,
   "id": "33f9ecd7",
   "metadata": {},
   "outputs": [],
   "source": [
    "sphere = Mesh.from_file(\n",
    "    \"sphere_lowpoly.obj\",\n",
    "    color=torch.tensor([1.0, 0.0, 0.0]),\n",
    ")\n",
    "r = 1. / 150\n",
    "# r = 1.0\n",
    "sphere.vertices *= r"
   ]
  },
  {
   "cell_type": "code",
   "execution_count": null,
   "id": "bdacd923",
   "metadata": {},
   "outputs": [],
   "source": [
    "cylinder = Mesh.from_file(\"textured_cylinder.obj\", load_texture=True)\n",
    "r = 0.03\n",
    "h = 0.3\n",
    "scale = torch.tensor([r, h, r]).to(cylinder.vertices)\n",
    "cylinder.vertices = scale.unsqueeze(0) * cylinder.vertices"
   ]
  },
  {
   "cell_type": "code",
   "execution_count": null,
   "id": "628ffbd6",
   "metadata": {},
   "outputs": [],
   "source": [
    "def rigid_transform_to_torch(X, *, unsqueeze):\n",
    "    R = X.rotation().matrix().copy()\n",
    "    t = X.translation().copy()\n",
    "    R = torch.from_numpy(R).to(device, dtype)\n",
    "    t = torch.from_numpy(t).to(device, dtype)\n",
    "    if unsqueeze:\n",
    "        R = R.unsqueeze(0)\n",
    "        t = t.unsqueeze(0)\n",
    "    return R, t"
   ]
  },
  {
   "cell_type": "code",
   "execution_count": null,
   "id": "3f69ee94",
   "metadata": {},
   "outputs": [],
   "source": [
    "def render(mesh, X):\n",
    "    out = RgbDepth()\n",
    "    vertices, faces, textures = mesh.unsqueeze()\n",
    "    R, t = rigid_transform_to_torch(X, unsqueeze=True)\n",
    "    out.rgb, out.depth, _ = renderer.render(\n",
    "        vertices,\n",
    "        faces,\n",
    "        textures=textures,\n",
    "        R=R,\n",
    "        t=t,\n",
    "        K=K,\n",
    "    )\n",
    "    return out"
   ]
  },
  {
   "cell_type": "code",
   "execution_count": null,
   "id": "fb36cdf5",
   "metadata": {},
   "outputs": [],
   "source": [
    "R_WP = RollPitchYaw(np.deg2rad([90, 0, 0])).ToRotationMatrix()\n",
    "X_WP = RigidTransform(R_WP)"
   ]
  },
  {
   "cell_type": "code",
   "execution_count": null,
   "id": "a576827a",
   "metadata": {},
   "outputs": [],
   "source": [
    "scene = Mesh.empty()\n",
    "\n",
    "xs_PO = x.copy()\n",
    "xs_WO = (X_WP @ xs_PO.T).T\n",
    "xs_WO = torch.from_numpy(xs_WO).to(device, dtype)\n",
    "for p_WO in xs_WO:\n",
    "    scene.add_object(sphere, p_WO)"
   ]
  },
  {
   "cell_type": "code",
   "execution_count": null,
   "id": "5cf19024",
   "metadata": {},
   "outputs": [],
   "source": [
    "scene_cylinder = Mesh.empty()\n",
    "\n",
    "p_PS = primitive_states[:3]\n",
    "qwxyz_PS = primitive_states[3:]\n",
    "X_PS = RigidTransform(Quaternion(qwxyz_PS), p_PS)\n",
    "X_WS = X_WP @ X_PS\n",
    "R, t = rigid_transform_to_torch(X_WS, unsqueeze=False)\n",
    "scene_cylinder.add_object(cylinder, t, R)"
   ]
  },
  {
   "cell_type": "code",
   "execution_count": null,
   "id": "c6cb98ea",
   "metadata": {},
   "outputs": [],
   "source": [
    "@dc.dataclass\n",
    "class RgbDepth:\n",
    "    rgb: torch.Tensor = None  # Batched, NCHW\n",
    "    depth: torch.Tensor = None  # Batched\n",
    "\n",
    "    def add(self, other):\n",
    "        if self.rgb is None:\n",
    "            assert self.depth is None\n",
    "            self.rgb = other.rgb\n",
    "            self.depth = other.depth\n",
    "        else:\n",
    "            assert self.depth is not None\n",
    "            new = other.depth < self.depth\n",
    "            new_rgb = new.unsqueeze(1).repeat(1, 3, 1, 1)  # For color channel\n",
    "            self.rgb[new_rgb] = other.rgb[new_rgb]\n",
    "            self.depth[new] = other.depth[new]\n",
    "\n",
    "    def numpy(self):\n",
    "        rgb = self.rgb.squeeze(0).cpu().numpy().transpose(1, 2, 0)\n",
    "        depth = self.depth.cpu().numpy()\n",
    "        return rgb, depth"
   ]
  },
  {
   "cell_type": "code",
   "execution_count": null,
   "id": "f11cccff",
   "metadata": {},
   "outputs": [],
   "source": [
    "X_WC = RigidTransform(\n",
    "    p=[0.5, -0.5, 1.0],\n",
    "    R=RollPitchYaw(np.deg2rad([180, 0, 0])).ToRotationMatrix(),\n",
    ")\n",
    "X_CW = X_WC.inverse()\n",
    "\n",
    "full = RgbDepth()\n",
    "dough = render(scene, X_CW)\n",
    "full.add(dough)\n",
    "cyl = render(scene_cylinder, X_CW)\n",
    "full.add(cyl)\n",
    "\n",
    "rgb, _ = full.numpy()\n",
    "rgb = (rgb * 255).astype(np.uint8)\n",
    "display(Image.fromarray(rgb))"
   ]
  },
  {
   "cell_type": "code",
   "execution_count": null,
   "id": "ef87f99d",
   "metadata": {},
   "outputs": [],
   "source": []
  },
  {
   "cell_type": "code",
   "execution_count": null,
   "id": "552d0599",
   "metadata": {},
   "outputs": [],
   "source": [
    "X_CW = RigidTransform([0, 0, 0.5])\n",
    "\n",
    "for rot_x in np.arange(0, 45, 15):\n",
    "    print(rot_x)\n",
    "    R_WWh = RollPitchYaw([np.deg2rad(rot_x), 0, 0]).ToRotationMatrix()\n",
    "\n",
    "# for rot_y in np.arange(0, 45, 15):\n",
    "#     print(rot_y)\n",
    "#     R_WWh = RollPitchYaw([0, np.deg2rad(rot_y), 0]).ToRotationMatrix()\n",
    "\n",
    "    X_WWh = RigidTransform(R_WWh)\n",
    "    full = RgbDepth()\n",
    "    full.add(render(cylinder, X_CW @ X_WWh))\n",
    "    rgb, _ = full.numpy()\n",
    "    rgb = (rgb * 255).astype(np.uint8)\n",
    "    display(Image.fromarray(rgb))"
   ]
  },
  {
   "cell_type": "code",
   "execution_count": null,
   "id": "ca2097b5",
   "metadata": {},
   "outputs": [],
   "source": []
  },
  {
   "cell_type": "code",
   "execution_count": null,
   "id": "50fee7e1",
   "metadata": {},
   "outputs": [],
   "source": []
  }
 ],
 "metadata": {
  "kernelspec": {
   "display_name": "Python 3",
   "language": "python",
   "name": "python3"
  },
  "language_info": {
   "codemirror_mode": {
    "name": "ipython",
    "version": 3
   },
   "file_extension": ".py",
   "mimetype": "text/x-python",
   "name": "python",
   "nbconvert_exporter": "python",
   "pygments_lexer": "ipython3",
   "version": "3.6.9"
  }
 },
 "nbformat": 4,
 "nbformat_minor": 5
}
