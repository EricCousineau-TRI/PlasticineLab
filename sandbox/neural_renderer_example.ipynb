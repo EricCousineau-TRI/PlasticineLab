{
 "cells": [
  {
   "cell_type": "code",
   "execution_count": null,
   "id": "d5a4a777",
   "metadata": {},
   "outputs": [],
   "source": [
    "import dataclasses as dc\n",
    "import os\n",
    "\n",
    "import torch\n",
    "import numpy as np\n",
    "from PIL import Image\n",
    "\n",
    "from pydrake.math import RollPitchYaw, RotationMatrix\n",
    "\n",
    "import neural_renderer as nr\n",
    "from simple_mesh import Mesh, make_fake_textures, intrinsic_matrix_from_fov"
   ]
  },
  {
   "cell_type": "code",
   "execution_count": null,
   "id": "772de4bd",
   "metadata": {},
   "outputs": [],
   "source": [
    "np.set_printoptions(formatter={\"float_kind\": lambda x: f\"{x:,.4f}\"})\n",
    "torch.set_grad_enabled(False)"
   ]
  },
  {
   "cell_type": "code",
   "execution_count": null,
   "id": "defc8af0",
   "metadata": {},
   "outputs": [],
   "source": [
    "device = torch.device(\"cuda\")\n",
    "dtype = torch.float32"
   ]
  },
  {
   "cell_type": "code",
   "execution_count": null,
   "id": "1d7f7e06",
   "metadata": {},
   "outputs": [],
   "source": [
    "width = 128\n",
    "height = 128\n",
    "fov_y = np.pi / 4\n",
    "K = intrinsic_matrix_from_fov(width, height, fov_y)\n",
    "K = torch.from_numpy(K).to(device, dtype).unsqueeze(0)\n",
    "\n",
    "renderer = nr.Renderer(\n",
    "    camera_mode='projection',\n",
    "    projection_left_hand=False,\n",
    "    image_size=width,\n",
    "    light_direction=[-1, -1, -1],\n",
    "    light_intensity_directional=0.5,\n",
    "    background_color=[1.0, 1.0, 1.0],\n",
    ")"
   ]
  },
  {
   "cell_type": "code",
   "execution_count": null,
   "id": "e842986b",
   "metadata": {},
   "outputs": [],
   "source": [
    "vertices, faces, textures = nr.load_obj(\n",
    "    \"textured_cylinder.obj\", normalization=False, load_texture=True,\n",
    ")"
   ]
  },
  {
   "cell_type": "code",
   "execution_count": null,
   "id": "0007647a",
   "metadata": {},
   "outputs": [],
   "source": [
    "R_CW = np.eye(3)\n",
    "p_CW = np.array([0, 0, 10])\n",
    "\n",
    "for rot_y in np.arange(0, 360, 15):\n",
    "    print(rot_y)\n",
    "    R_WWh = RollPitchYaw([0, np.deg2rad(rot_y), 0]).ToRotationMatrix().matrix()\n",
    "# for rot_x in np.arange(0, 360, 15):\n",
    "#     print(rot_x)\n",
    "#     R_WWh = RollPitchYaw([np.deg2rad(rot_x), 0, 0]).ToRotationMatrix().matrix()\n",
    "\n",
    "    v_hack = vertices @ torch.from_numpy(R_WWh).to(device, dtype).T\n",
    "\n",
    "    image = renderer.render_rgb(\n",
    "        v_hack.unsqueeze(0),\n",
    "        faces.unsqueeze(0),\n",
    "        textures=textures.unsqueeze(0),\n",
    "        R=torch.from_numpy(R_CW).to(device, dtype).unsqueeze(0),\n",
    "        t=torch.from_numpy(p_CW).to(device, dtype).unsqueeze(0),\n",
    "        K=K,\n",
    "    ).squeeze(0).cpu().numpy().transpose(1, 2, 0)\n",
    "\n",
    "    rgb = (image * 255).astype(np.uint8)\n",
    "    display(Image.fromarray(rgb))"
   ]
  },
  {
   "cell_type": "code",
   "execution_count": null,
   "id": "44bdcdb5",
   "metadata": {},
   "outputs": [],
   "source": []
  }
 ],
 "metadata": {
  "kernelspec": {
   "display_name": "Python 3",
   "language": "python",
   "name": "python3"
  },
  "language_info": {
   "codemirror_mode": {
    "name": "ipython",
    "version": 3
   },
   "file_extension": ".py",
   "mimetype": "text/x-python",
   "name": "python",
   "nbconvert_exporter": "python",
   "pygments_lexer": "ipython3",
   "version": "3.6.9"
  }
 },
 "nbformat": 4,
 "nbformat_minor": 5
}
