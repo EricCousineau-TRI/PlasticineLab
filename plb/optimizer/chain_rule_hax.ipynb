{
 "cells": [
  {
   "cell_type": "code",
   "execution_count": null,
   "metadata": {},
   "outputs": [],
   "source": [
    "# %load_ext autoreload\n",
    "# %autoreload 2"
   ]
  },
  {
   "cell_type": "code",
   "execution_count": 10,
   "metadata": {
    "collapsed": false,
    "jupyter": {
     "outputs_hidden": false
    },
    "pycharm": {
     "name": "#%%\n"
    }
   },
   "outputs": [],
   "source": [
    "import plb\n",
    "from plb.envs import make\n",
    "import taichi as ti"
   ]
  },
  {
   "cell_type": "code",
   "execution_count": null,
   "metadata": {},
   "outputs": [],
   "source": [
    "from plt.envs.env import "
   ]
  },
  {
   "cell_type": "code",
   "execution_count": null,
   "metadata": {
    "collapsed": false,
    "jupyter": {
     "outputs_hidden": false
    },
    "pycharm": {
     "name": "#%%\n"
    }
   },
   "outputs": [],
   "source": [
    "# env = make(\"Move-v1\")\n",
    "\n",
    "\n",
    "env.reset()\n",
    "taichi_env = env.taichi_env"
   ]
  },
  {
   "cell_type": "code",
   "execution_count": null,
   "metadata": {
    "collapsed": false,
    "jupyter": {
     "outputs_hidden": false
    },
    "pycharm": {
     "name": "#%%\n"
    }
   },
   "outputs": [],
   "source": [
    "import taichi as ti\n",
    "import numpy as np\n",
    "from plb.engine.taichi_env import TaichiEnv\n",
    "env.reset()\n",
    "state = taichi_env.get_state()\n",
    "sim_state = state['state']\n",
    "actions = np.random.random(size=(50, 6))*0.01\n",
    "\n",
    "def forward(taichi_env: TaichiEnv, sim_state, action):\n",
    "    taichi_env.set_state(sim_state, 666, False)\n",
    "    with ti.Tape(loss=taichi_env.loss.loss):\n",
    "        for i in range(len(action)):\n",
    "            taichi_env.step(action[i])\n",
    "            loss_info = taichi_env.compute_loss()\n",
    "    loss = taichi_env.loss.loss[None]\n",
    "    return loss, taichi_env.primitives.get_grad(len(action))\n",
    "\n",
    "loss, grad = forward(taichi_env, sim_state, actions)\n",
    "\n",
    "print(loss)"
   ]
  },
  {
   "cell_type": "code",
   "execution_count": null,
   "metadata": {},
   "outputs": [],
   "source": [
    "grad.shape"
   ]
  }
 ],
 "metadata": {
  "kernelspec": {
   "display_name": "Python 3",
   "language": "python",
   "name": "python3"
  },
  "language_info": {
   "codemirror_mode": {
    "name": "ipython",
    "version": 3
   },
   "file_extension": ".py",
   "mimetype": "text/x-python",
   "name": "python",
   "nbconvert_exporter": "python",
   "pygments_lexer": "ipython3",
   "version": "3.6.9"
  }
 },
 "nbformat": 4,
 "nbformat_minor": 4
}
