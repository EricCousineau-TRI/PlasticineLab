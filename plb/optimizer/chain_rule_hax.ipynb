{
 "cells": [
  {
   "cell_type": "code",
   "execution_count": null,
   "metadata": {},
   "outputs": [],
   "source": [
    "# %load_ext autoreload\n",
    "# %autoreload 2"
   ]
  },
  {
   "cell_type": "code",
   "execution_count": null,
   "metadata": {
    "collapsed": false,
    "jupyter": {
     "outputs_hidden": false
    },
    "pycharm": {
     "name": "#%%\n"
    }
   },
   "outputs": [],
   "source": [
    "import plb\n",
    "from plb.envs import make\n",
    "import taichi as ti\n",
    "# TODO: run on GPU, fast_math will cause error on float64's sqrt; removing it cuases compile error..\n",
    "ti.init(arch=ti.gpu, debug=False, fast_math=True)\n",
    "\n",
    "import numpy as np"
   ]
  },
  {
   "cell_type": "code",
   "execution_count": null,
   "metadata": {},
   "outputs": [],
   "source": [
    "from plb.config import load\n",
    "from plb.engine.taichi_env import TaichiEnv"
   ]
  },
  {
   "cell_type": "code",
   "execution_count": null,
   "metadata": {},
   "outputs": [],
   "source": [
    "text = \"\"\"\n",
    "SIMULATOR:\n",
    "  E: 5000.\n",
    "  n_particles: 0  # This is unused.\n",
    "  yield_stress: 200.\n",
    "  quality: 1.0  # Can't make this lower :(\n",
    "SHAPES:\n",
    "  - shape: sphere\n",
    "    radius: 0.2049069760770578/2\n",
    "    init_pos: (0.6757143040494873, 0.5619162002773135, 0.7515980438048129)\n",
    "    color: (127<<16)\n",
    "    n_particles: 100\n",
    "PRIMITIVES:\n",
    "  - shape: Sphere\n",
    "    radius: 0.03\n",
    "    init_pos: (0.5757143040494873, 0.5619162002773135, 0.7515980438048129)\n",
    "    color: (0.7, 0.7, 0.7)\n",
    "    friction: 0.9\n",
    "    action:\n",
    "      dim: 3\n",
    "      scale: (0.01, 0.01, 0.01)\n",
    "  - shape: Sphere\n",
    "    radius: 0.03\n",
    "    init_pos: (0.7757143040494873, 0.5619162002773135, 0.7515980438048129)\n",
    "    color: (0.7, 0.7, 0.7)\n",
    "    friction: 0.9\n",
    "    action:\n",
    "      dim: 3\n",
    "      scale: (0.01, 0.01, 0.01)\n",
    "ENV:\n",
    "  loss:\n",
    "    target_path: envs/assets/Move3D-v1.npy\n",
    "\"\"\"\n",
    "cfg_path = \"/tmp/taichi_cfg.yml\"\n",
    "with open(cfg_path, \"w\") as f:\n",
    "    f.write(text.lstrip())\n",
    "cfg = load(cfg_path)"
   ]
  },
  {
   "cell_type": "code",
   "execution_count": null,
   "metadata": {},
   "outputs": [],
   "source": [
    "taichi_env = TaichiEnv(cfg=cfg, nn=False, loss=True)\n",
    "taichi_env.initialize()\n",
    "taichi_env.set_copy(False)\n",
    "init_state = taichi_env.get_state()"
   ]
  },
  {
   "cell_type": "code",
   "execution_count": null,
   "metadata": {},
   "outputs": [],
   "source": [
    "print(cfg.dump())"
   ]
  },
  {
   "cell_type": "code",
   "execution_count": null,
   "metadata": {},
   "outputs": [],
   "source": [
    "import time"
   ]
  },
  {
   "cell_type": "code",
   "execution_count": null,
   "metadata": {
    "collapsed": false,
    "jupyter": {
     "outputs_hidden": false
    },
    "pycharm": {
     "name": "#%%\n"
    }
   },
   "outputs": [],
   "source": [
    "taichi_env.set_state(**init_state)\n",
    "state = taichi_env.get_state()\n",
    "sim_state = state['state']\n",
    "softness = 600\n",
    "T = 5\n",
    "action_dim = 3 * 2\n",
    "action_max = 0.01\n",
    "\n",
    "actions = np.random.random(size=(T, action_dim))*action_max\n",
    "\n",
    "def forward(taichi_env, sim_state, action):\n",
    "    dts = []\n",
    "    taichi_env.set_state(sim_state, softness, False)\n",
    "    # Timing is about ~20Hz.\n",
    "    with ti.Tape(loss=taichi_env.loss.loss):\n",
    "        for f in range(T):\n",
    "            taichi_env.step(action[f])\n",
    "            loss_info = taichi_env.compute_loss()\n",
    "    loss = taichi_env.loss.loss[None]\n",
    "    return loss, taichi_env.primitives.get_grad(len(action))\n",
    "\n",
    "loss, grad = forward(taichi_env, sim_state, actions)"
   ]
  },
  {
   "cell_type": "code",
   "execution_count": null,
   "metadata": {},
   "outputs": [],
   "source": [
    "print(loss)\n",
    "print(grad.shape)"
   ]
  },
  {
   "cell_type": "code",
   "execution_count": null,
   "metadata": {},
   "outputs": [],
   "source": [
    "# Check determinism - just seems like reduction?\n",
    "loss0 = loss\n",
    "for _ in range(10):\n",
    "    loss, _ = forward(taichi_env, sim_state, actions)\n",
    "    print(loss - loss0)"
   ]
  },
  {
   "cell_type": "code",
   "execution_count": null,
   "metadata": {},
   "outputs": [],
   "source": []
  }
 ],
 "metadata": {
  "kernelspec": {
   "display_name": "Python 3",
   "language": "python",
   "name": "python3"
  },
  "language_info": {
   "codemirror_mode": {
    "name": "ipython",
    "version": 3
   },
   "file_extension": ".py",
   "mimetype": "text/x-python",
   "name": "python",
   "nbconvert_exporter": "python",
   "pygments_lexer": "ipython3",
   "version": "3.6.9"
  }
 },
 "nbformat": 4,
 "nbformat_minor": 4
}
