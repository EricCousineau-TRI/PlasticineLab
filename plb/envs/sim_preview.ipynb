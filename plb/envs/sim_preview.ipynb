{
 "cells": [
  {
   "cell_type": "markdown",
   "id": "021b0f2a",
   "metadata": {},
   "source": [
    "To experiment and ensure stuff like gravity falling etc. still happens."
   ]
  },
  {
   "cell_type": "code",
   "execution_count": null,
   "id": "b6f38547",
   "metadata": {},
   "outputs": [],
   "source": [
    "import cv2\n",
    "import numpy as np\n",
    "import moviepy.editor as mpy\n",
    "\n",
    "from plb.envs import make"
   ]
  },
  {
   "cell_type": "code",
   "execution_count": null,
   "id": "dc92bdb8",
   "metadata": {},
   "outputs": [],
   "source": [
    "env = make(\"CustomDough-v1\")\n",
    "env.seed(0)\n",
    "cfg = env.unwrapped._full_cfg\n",
    "\n",
    "taichi_env = env.unwrapped.taichi_env\n",
    "# T = env._max_episode_steps\n",
    "T = 1\n",
    "\n",
    "print()\n",
    "print(cfg.dump())"
   ]
  },
  {
   "cell_type": "code",
   "execution_count": null,
   "id": "e31f20d9",
   "metadata": {},
   "outputs": [],
   "source": [
    "full_state = taichi_env.get_state()\n",
    "state = full_state[\"state\"]\n",
    "x, v, F, C, primitive_states = state"
   ]
  },
  {
   "cell_type": "code",
   "execution_count": null,
   "id": "b7908425",
   "metadata": {},
   "outputs": [],
   "source": [
    "x.shape"
   ]
  },
  {
   "cell_type": "code",
   "execution_count": null,
   "id": "30466774",
   "metadata": {},
   "outputs": [],
   "source": [
    "clips = []\n",
    "for idx in range(T):\n",
    "    print(f\"idx: {idx}\")\n",
    "    act = np.zeros(taichi_env.primitives.action_dim)\n",
    "    env.step(act)\n",
    "    rgb = env.render(mode='rgb_array')\n",
    "    clips.append(rgb.copy())"
   ]
  },
  {
   "cell_type": "code",
   "execution_count": null,
   "id": "db0a9eef",
   "metadata": {},
   "outputs": [],
   "source": [
    "from PIL import Image"
   ]
  },
  {
   "cell_type": "code",
   "execution_count": null,
   "id": "970e5362",
   "metadata": {},
   "outputs": [],
   "source": [
    "Image.fromarray(clips[0])"
   ]
  },
  {
   "cell_type": "code",
   "execution_count": null,
   "id": "d3a544ff",
   "metadata": {},
   "outputs": [],
   "source": [
    "movie = mpy.ImageSequenceClip(clips, fps=10)\n",
    "movie.ipython_display()"
   ]
  },
  {
   "cell_type": "code",
   "execution_count": null,
   "id": "ff646c59",
   "metadata": {
    "scrolled": true,
    "tags": []
   },
   "outputs": [],
   "source": [
    "dps = np.array([\n",
    "    [0, 0, 0],\n",
    "    [0.3, 0, 0],\n",
    "    [0, 0.3, 0],\n",
    "    [0, 0, 0.3],\n",
    "])\n",
    "p0 = np.array([0.5, 0.5, 0.5])\n",
    "for dp in dps:\n",
    "    full_state = taichi_env.get_state()\n",
    "    pose = full_state[\"state\"][-1]\n",
    "    p = pose[:3]\n",
    "    print(dp)\n",
    "    p[:] = p0 + dp\n",
    "    taichi_env.set_state(**full_state)\n",
    "    rgb = env.render(mode='rgb_array')\n",
    "    display(Image.fromarray(rgb))"
   ]
  },
  {
   "cell_type": "code",
   "execution_count": null,
   "id": "760d0ab5",
   "metadata": {},
   "outputs": [],
   "source": [
    "\n"
   ]
  }
 ],
 "metadata": {
  "kernelspec": {
   "display_name": "Python 3",
   "language": "python",
   "name": "python3"
  },
  "language_info": {
   "codemirror_mode": {
    "name": "ipython",
    "version": 3
   },
   "file_extension": ".py",
   "mimetype": "text/x-python",
   "name": "python",
   "nbconvert_exporter": "python",
   "pygments_lexer": "ipython3",
   "version": "3.6.9"
  }
 },
 "nbformat": 4,
 "nbformat_minor": 5
}
