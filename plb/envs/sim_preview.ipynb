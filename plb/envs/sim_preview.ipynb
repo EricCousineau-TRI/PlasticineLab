{
 "cells": [
  {
   "cell_type": "markdown",
   "id": "77d38e19",
   "metadata": {},
   "source": [
    "To experiment and ensure stuff like gravity falling etc. still happens."
   ]
  },
  {
   "cell_type": "code",
   "execution_count": null,
   "id": "95dc0f28",
   "metadata": {},
   "outputs": [],
   "source": [
    "import cv2\n",
    "import numpy as np\n",
    "import moviepy.editor as mpy\n",
    "\n",
    "from plb.envs import make"
   ]
  },
  {
   "cell_type": "code",
   "execution_count": null,
   "id": "65583af9",
   "metadata": {},
   "outputs": [],
   "source": [
    "env = make(\"Rollingpin-v1\")\n",
    "env.seed(0)\n",
    "cfg = env.unwrapped._full_cfg\n",
    "\n",
    "taichi_env = env.unwrapped.taichi_env\n",
    "T = env._max_episode_steps\n",
    "\n",
    "print()\n",
    "print(cfg.dump())"
   ]
  },
  {
   "cell_type": "code",
   "execution_count": null,
   "id": "24869cb4",
   "metadata": {},
   "outputs": [],
   "source": [
    "env.reset()"
   ]
  },
  {
   "cell_type": "code",
   "execution_count": null,
   "id": "cec3b7dc",
   "metadata": {},
   "outputs": [],
   "source": [
    "clips = []\n",
    "for idx in range(T):\n",
    "    print(f\"idx: {idx}\")\n",
    "    act = np.zeros(taichi_env.primitives.action_dim)\n",
    "    env.step(act)\n",
    "    rgb = env.render(mode='rgb_array')\n",
    "    clips.append(rgb.copy())"
   ]
  },
  {
   "cell_type": "code",
   "execution_count": null,
   "id": "a1106ecc",
   "metadata": {},
   "outputs": [],
   "source": [
    "movie = mpy.ImageSequenceClip(clips, fps=10)\n",
    "movie.ipython_display()"
   ]
  },
  {
   "cell_type": "code",
   "execution_count": null,
   "id": "ea78ae96",
   "metadata": {},
   "outputs": [],
   "source": []
  }
 ],
 "metadata": {
  "kernelspec": {
   "display_name": "Python 3",
   "language": "python",
   "name": "python3"
  },
  "language_info": {
   "codemirror_mode": {
    "name": "ipython",
    "version": 3
   },
   "file_extension": ".py",
   "mimetype": "text/x-python",
   "name": "python",
   "nbconvert_exporter": "python",
   "pygments_lexer": "ipython3",
   "version": "3.6.9"
  }
 },
 "nbformat": 4,
 "nbformat_minor": 5
}
