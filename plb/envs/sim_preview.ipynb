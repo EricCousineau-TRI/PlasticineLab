{
 "cells": [
  {
   "cell_type": "markdown",
   "id": "d31983eb",
   "metadata": {},
   "source": [
    "To experiment and ensure stuff like gravity falling etc. still happens."
   ]
  },
  {
   "cell_type": "code",
   "execution_count": null,
   "id": "784d6724",
   "metadata": {},
   "outputs": [],
   "source": [
    "import cv2\n",
    "import numpy as np\n",
    "import moviepy.editor as mpy\n",
    "\n",
    "from plb.envs import make\n",
    "from plb.utils.timer import Timer"
   ]
  },
  {
   "cell_type": "code",
   "execution_count": null,
   "id": "3cf27138",
   "metadata": {},
   "outputs": [],
   "source": [
    "env = make(\"CustomDough-v1\")\n",
    "env.seed(0)\n",
    "cfg = env.unwrapped._full_cfg\n",
    "\n",
    "taichi_env = env.unwrapped.taichi_env\n",
    "# T = env._max_episode_steps\n",
    "T = 10\n",
    "\n",
    "print()\n",
    "print(cfg.dump())"
   ]
  },
  {
   "cell_type": "code",
   "execution_count": null,
   "id": "4259e4de",
   "metadata": {},
   "outputs": [],
   "source": [
    "full_state = taichi_env.get_state()\n",
    "state = full_state[\"state\"]\n",
    "x, v, F, C, primitive_states = state"
   ]
  },
  {
   "cell_type": "code",
   "execution_count": null,
   "id": "4d8af1e9",
   "metadata": {},
   "outputs": [],
   "source": [
    "x.shape"
   ]
  },
  {
   "cell_type": "code",
   "execution_count": null,
   "id": "73ba12e9",
   "metadata": {},
   "outputs": [],
   "source": [
    "clips = []\n",
    "env.reset()\n",
    "for idx in range(T):\n",
    "    print(f\"idx: {idx}\")\n",
    "    act = np.zeros(taichi_env.primitives.action_dim)\n",
    "    with Timer():\n",
    "        env.step(act)\n",
    "    with Timer():\n",
    "        rgb = env.render(mode='rgb_array')\n",
    "    clips.append(rgb.copy())"
   ]
  },
  {
   "cell_type": "code",
   "execution_count": null,
   "id": "a0c61c28",
   "metadata": {},
   "outputs": [],
   "source": [
    "assert False"
   ]
  },
  {
   "cell_type": "code",
   "execution_count": null,
   "id": "ac89a425",
   "metadata": {},
   "outputs": [],
   "source": [
    "from PIL import Image"
   ]
  },
  {
   "cell_type": "code",
   "execution_count": null,
   "id": "2cb66958",
   "metadata": {},
   "outputs": [],
   "source": [
    "full_state = taichi_env.get_state()\n",
    "np.save(\"/tmp/full_state.npy\", full_state)"
   ]
  },
  {
   "cell_type": "code",
   "execution_count": null,
   "id": "a0f9e145",
   "metadata": {},
   "outputs": [],
   "source": [
    "img = Image.fromarray(clips[0])"
   ]
  },
  {
   "cell_type": "code",
   "execution_count": null,
   "id": "d1ac6d0c",
   "metadata": {},
   "outputs": [],
   "source": [
    "img.save(\"/tmp/full_state.png\")"
   ]
  },
  {
   "cell_type": "code",
   "execution_count": null,
   "id": "d7903916",
   "metadata": {},
   "outputs": [],
   "source": [
    "movie = mpy.ImageSequenceClip(clips, fps=10)\n",
    "movie.ipython_display()"
   ]
  },
  {
   "cell_type": "code",
   "execution_count": null,
   "id": "f6806fa9",
   "metadata": {
    "scrolled": true,
    "tags": []
   },
   "outputs": [],
   "source": [
    "dps = np.array([\n",
    "    [0, 0, 0],\n",
    "    [0.3, 0, 0],\n",
    "    [0, 0.3, 0],\n",
    "    [0, 0, 0.3],\n",
    "])\n",
    "p0 = np.array([0.5, 0.5, 0.5])\n",
    "for dp in dps:\n",
    "    full_state = taichi_env.get_state()\n",
    "    pose = full_state[\"state\"][-1]\n",
    "    p = pose[:3]\n",
    "    print(dp)\n",
    "    p[:] = p0 + dp\n",
    "    taichi_env.set_state(**full_state)\n",
    "    rgb = env.render(mode='rgb_array')\n",
    "    display(Image.fromarray(rgb))"
   ]
  },
  {
   "cell_type": "code",
   "execution_count": null,
   "id": "a9cd7c7a",
   "metadata": {},
   "outputs": [],
   "source": [
    "\n"
   ]
  }
 ],
 "metadata": {
  "kernelspec": {
   "display_name": "Python 3",
   "language": "python",
   "name": "python3"
  },
  "language_info": {
   "codemirror_mode": {
    "name": "ipython",
    "version": 3
   },
   "file_extension": ".py",
   "mimetype": "text/x-python",
   "name": "python",
   "nbconvert_exporter": "python",
   "pygments_lexer": "ipython3",
   "version": "3.6.9"
  }
 },
 "nbformat": 4,
 "nbformat_minor": 5
}
